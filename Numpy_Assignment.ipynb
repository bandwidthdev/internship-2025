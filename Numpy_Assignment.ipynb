{
  "cells": [
    {
      "cell_type": "markdown",
      "id": "9f49ee20",
      "metadata": {
        "id": "9f49ee20"
      },
      "source": [
        "# NumPy Assignment\n",
        "Student Name: ALLAN NUWAMANYA"
      ]
    },
    {
      "cell_type": "markdown",
      "id": "bef012d4",
      "metadata": {
        "id": "bef012d4"
      },
      "source": [
        "## What is NumPy, and what are some of its key features?\n",
        "\n",
        "NumPy is a fundamental Python library for numerical computations. It provides support for large, multi-dimensional arrays and matrices, along with a collection of mathematical functions to operate efficiently on these arrays.\n",
        "\n",
        "**Key features of NumPy:**\n",
        "- Efficient storage and manipulation of numerical arrays.\n",
        "- Broadcasting, which allows operations on arrays of different shapes.\n",
        "- Vectorized operations to avoid explicit loops.\n",
        "- Functions for linear algebra, statistical operations, and Fourier transforms.\n",
        "- Interoperability with other libraries like SciPy, pandas, and matplotlib."
      ]
    },
    {
      "cell_type": "markdown",
      "id": "8a435e4a",
      "metadata": {
        "id": "8a435e4a"
      },
      "source": [
        "## How to install NumPy\n",
        "\n",
        "To install NumPy when Python is already installed, you can use:\n",
        "\n",
        "```bash\n",
        "# Using conda\n",
        "conda install numpy\n",
        "\n",
        "# Using pip\n",
        "pip install numpy\n",
        "```"
      ]
    },
    {
      "cell_type": "markdown",
      "id": "7626a9cd",
      "metadata": {
        "id": "7626a9cd"
      },
      "source": [
        "## 1. How do you create a NumPy array using Python's built-in `range()` function?"
      ]
    },
    {
      "cell_type": "code",
      "execution_count": 1,
      "id": "66ba8a5f",
      "metadata": {
        "colab": {
          "base_uri": "https://localhost:8080/"
        },
        "id": "66ba8a5f",
        "outputId": "00f79639-f574-41c8-e603-0779d70b19df"
      },
      "outputs": [
        {
          "output_type": "stream",
          "name": "stdout",
          "text": [
            "[0 1 2 3 4 5 6 7 8 9]\n"
          ]
        }
      ],
      "source": [
        "import numpy as np\n",
        "\n",
        "# Create a NumPy array from numbers 0 to 9\n",
        "arr = np.array(range(10))\n",
        "print(arr)"
      ]
    },
    {
      "cell_type": "markdown",
      "id": "dbfb14cd",
      "metadata": {
        "id": "dbfb14cd"
      },
      "source": [
        "## 2. What is the difference between a scalar value and a vector in NumPy?"
      ]
    },
    {
      "cell_type": "markdown",
      "id": "03f26138",
      "metadata": {
        "id": "03f26138"
      },
      "source": [
        "- **Scalar:** A single value (0-dimensional).\n",
        "- **Vector:** A one-dimensional array of values."
      ]
    },
    {
      "cell_type": "code",
      "execution_count": 2,
      "id": "64a08d2d",
      "metadata": {
        "colab": {
          "base_uri": "https://localhost:8080/"
        },
        "id": "64a08d2d",
        "outputId": "93d611f5-e57d-4f10-8026-219fb75ee8de"
      },
      "outputs": [
        {
          "output_type": "stream",
          "name": "stdout",
          "text": [
            "Scalar: 5\n",
            "Shape: ()\n",
            "Vector: [1 2 3]\n",
            "Shape: (3,)\n"
          ]
        }
      ],
      "source": [
        "# Scalar example\n",
        "scalar = np.array(5)\n",
        "print(\"Scalar:\", scalar)\n",
        "print(\"Shape:\", scalar.shape)  # () means 0-dimensional\n",
        "\n",
        "# Vector example\n",
        "vector = np.array([1, 2, 3])\n",
        "print(\"Vector:\", vector)\n",
        "print(\"Shape:\", vector.shape)  # (3,) means 1-dimensional with 3 elements"
      ]
    },
    {
      "cell_type": "markdown",
      "id": "d16b9fff",
      "metadata": {
        "id": "d16b9fff"
      },
      "source": [
        "## 3. How do you calculate the mean of a NumPy array using the `mean()` function?"
      ]
    },
    {
      "cell_type": "code",
      "execution_count": null,
      "id": "fb694663",
      "metadata": {
        "id": "fb694663"
      },
      "outputs": [],
      "source": [
        "arr = np.array([1, 2, 3, 4, 5])\n",
        "mean_value = arr.mean()\n",
        "print(\"Mean:\", mean_value)"
      ]
    },
    {
      "cell_type": "markdown",
      "id": "01c9fefe",
      "metadata": {
        "id": "01c9fefe"
      },
      "source": [
        "## 4. What is broadcasting in NumPy, and how can it be useful?"
      ]
    },
    {
      "cell_type": "markdown",
      "id": "98521d31",
      "metadata": {
        "id": "98521d31"
      },
      "source": [
        "Broadcasting allows NumPy to perform arithmetic operations on arrays of different shapes by automatically expanding the smaller array.\n",
        "\n",
        "Example:"
      ]
    },
    {
      "cell_type": "code",
      "execution_count": null,
      "id": "629c2f46",
      "metadata": {
        "id": "629c2f46"
      },
      "outputs": [],
      "source": [
        "a = np.array([1, 2, 3])\n",
        "b = 2  # scalar\n",
        "print(a + b)  # adds 2 to each element of a"
      ]
    },
    {
      "cell_type": "markdown",
      "id": "a6cafb7e",
      "metadata": {
        "id": "a6cafb7e"
      },
      "source": [
        "## 5. How can you slice a NumPy array to extract a subarray?"
      ]
    },
    {
      "cell_type": "code",
      "execution_count": null,
      "id": "92a0be41",
      "metadata": {
        "id": "92a0be41"
      },
      "outputs": [],
      "source": [
        "arr = np.array([0, 1, 2, 3, 4, 5, 6])\n",
        "subarr = arr[2:5]  # from index 2 to 4\n",
        "print(subarr)  # Output: [2 3 4]"
      ]
    },
    {
      "cell_type": "markdown",
      "id": "177b74ac",
      "metadata": {
        "id": "177b74ac"
      },
      "source": [
        "## 6. What are some available functions for performing element-wise operations on NumPy arrays?"
      ]
    },
    {
      "cell_type": "markdown",
      "id": "2c3a9a51",
      "metadata": {
        "id": "2c3a9a51"
      },
      "source": [
        "Some functions include:\n",
        "- `np.add()`, `np.subtract()`\n",
        "- `np.multiply()`, `np.divide()`\n",
        "- `np.sqrt()`, `np.exp()`"
      ]
    },
    {
      "cell_type": "code",
      "execution_count": null,
      "id": "43356e3d",
      "metadata": {
        "id": "43356e3d"
      },
      "outputs": [],
      "source": [
        "arr = np.array([1, 4, 9])\n",
        "print(np.sqrt(arr))  # Output: [1. 2. 3.]"
      ]
    },
    {
      "cell_type": "markdown",
      "id": "ea0f5212",
      "metadata": {
        "id": "ea0f5212"
      },
      "source": [
        "## 7. How do you reshape a NumPy array to have a different shape?"
      ]
    },
    {
      "cell_type": "code",
      "execution_count": null,
      "id": "c6b4334c",
      "metadata": {
        "id": "c6b4334c"
      },
      "outputs": [],
      "source": [
        "arr = np.arange(6)\n",
        "reshaped = arr.reshape(2, 3)  # 2 rows, 3 columns\n",
        "print(reshaped)"
      ]
    },
    {
      "cell_type": "markdown",
      "id": "0e270185",
      "metadata": {
        "id": "0e270185"
      },
      "source": [
        "## 8. How do you perform matrix multiplication on two NumPy arrays using the `dot()` function?"
      ]
    },
    {
      "cell_type": "code",
      "execution_count": null,
      "id": "3e0dde7f",
      "metadata": {
        "id": "3e0dde7f"
      },
      "outputs": [],
      "source": [
        "a = np.array([[1, 2], [3, 4]])\n",
        "b = np.array([[5, 6], [7, 8]])\n",
        "result = np.dot(a, b)\n",
        "print(result)"
      ]
    },
    {
      "cell_type": "markdown",
      "id": "1a09c586",
      "metadata": {
        "id": "1a09c586"
      },
      "source": [
        "## 9. How can you use the `where()` function to apply a condition to a NumPy array?"
      ]
    },
    {
      "cell_type": "code",
      "execution_count": null,
      "id": "3ae3a610",
      "metadata": {
        "id": "3ae3a610"
      },
      "outputs": [],
      "source": [
        "arr = np.array([1, 2, 3, 4])\n",
        "result = np.where(arr > 2, arr, 0)  # keep elements >2, else 0\n",
        "print(result)  # [0 0 3 4]"
      ]
    },
    {
      "cell_type": "markdown",
      "id": "6e790885",
      "metadata": {
        "id": "6e790885"
      },
      "source": [
        "## 10. What is the difference between the `flatten()` and `ravel()` functions in NumPy?"
      ]
    },
    {
      "cell_type": "markdown",
      "id": "01509bc4",
      "metadata": {
        "id": "01509bc4"
      },
      "source": [
        "- `flatten()` returns a **copy** of the array flattened.\n",
        "- `ravel()` returns a **view** when possible, no copy, so faster."
      ]
    },
    {
      "cell_type": "code",
      "execution_count": null,
      "id": "bc37bc3d",
      "metadata": {
        "id": "bc37bc3d"
      },
      "outputs": [],
      "source": [
        "arr = np.array([[1, 2], [3, 4]])\n",
        "print(arr.flatten())\n",
        "print(arr.ravel())"
      ]
    },
    {
      "cell_type": "markdown",
      "id": "87b9c6fc",
      "metadata": {
        "id": "87b9c6fc"
      },
      "source": [
        "## 11. How do you use NumPy's advanced indexing capabilities to select specific elements from an array?"
      ]
    },
    {
      "cell_type": "code",
      "execution_count": null,
      "id": "bd61d77b",
      "metadata": {
        "id": "bd61d77b"
      },
      "outputs": [],
      "source": [
        "arr = np.array([10, 20, 30, 40, 50])\n",
        "indices = [1, 3]\n",
        "print(arr[indices])  # [20 40]"
      ]
    },
    {
      "cell_type": "markdown",
      "id": "f0c53e4d",
      "metadata": {
        "id": "f0c53e4d"
      },
      "source": [
        "## 12. How can you use NumPy's broadcasting rules to perform operations on arrays with different shapes?"
      ]
    },
    {
      "cell_type": "code",
      "execution_count": null,
      "id": "eef86ff2",
      "metadata": {
        "id": "eef86ff2"
      },
      "outputs": [],
      "source": [
        "a = np.array([[1, 2, 3], [4, 5, 6]])\n",
        "b = np.array([1, 0, 1])\n",
        "print(a + b)  # b is broadcasted to each row of a"
      ]
    },
    {
      "cell_type": "markdown",
      "id": "c08accce",
      "metadata": {
        "id": "c08accce"
      },
      "source": [
        "# Project: Array Statistics Calculator\n",
        "\n",
        "Create a program that allows a user to enter a list of numbers, and then calculates and displays various statistics about those numbers using NumPy."
      ]
    },
    {
      "cell_type": "code",
      "execution_count": null,
      "id": "036b44d3",
      "metadata": {
        "id": "036b44d3"
      },
      "outputs": [],
      "source": [
        "import numpy as np\n",
        "\n",
        "# Prompt user to enter numbers separated by commas\n",
        "user_input = input(\"Enter a list of numbers separated by commas: \")\n",
        "\n",
        "# Convert input string into a list of floats\n",
        "num_list = [float(num.strip()) for num in user_input.split(\",\")]\n",
        "\n",
        "# Convert list into a NumPy array\n",
        "arr = np.array(num_list)\n",
        "\n",
        "# Calculate statistics\n",
        "mean = arr.mean()\n",
        "median = np.median(arr)\n",
        "std_dev = arr.std()\n",
        "maximum = arr.max()\n",
        "minimum = arr.min()\n",
        "\n",
        "# Display results\n",
        "print(\"Statistics for the input array:\")\n",
        "print(f\"Mean: {mean}\")\n",
        "print(f\"Median: {median}\")\n",
        "print(f\"Standard Deviation: {std_dev}\")\n",
        "print(f\"Maximum: {maximum}\")\n",
        "print(f\"Minimum: {minimum}\")"
      ]
    },
    {
      "cell_type": "markdown",
      "id": "7000e8ff",
      "metadata": {
        "id": "7000e8ff"
      },
      "source": []
    }
  ],
  "metadata": {
    "colab": {
      "provenance": []
    },
    "language_info": {
      "name": "python"
    },
    "kernelspec": {
      "name": "python3",
      "display_name": "Python 3"
    }
  },
  "nbformat": 4,
  "nbformat_minor": 5
}